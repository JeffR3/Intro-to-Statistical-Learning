{
 "cells": [
  {
   "cell_type": "markdown",
   "metadata": {
    "collapsed": true,
    "deletable": true,
    "editable": true,
    "slideshow": {
     "slide_type": "slide"
    }
   },
   "source": [
    "# Introduction\n",
    "\n",
    "### An Overview of Statistical Learning\n",
    "- Statistical learning refers to a vast set of tools for understanding data\n",
    "- Classified either as supervised or unsupervised"
   ]
  },
  {
   "cell_type": "markdown",
   "metadata": {
    "deletable": true,
    "editable": true,
    "slideshow": {
     "slide_type": "slide"
    }
   },
   "source": [
    "### Wage Data\n",
    "- The data set being used is the **Wage** data set\n",
    "- Understand an association of factors that relate to wages\n",
    "    - Age\n",
    "    - Education\n",
    "    - Year\n",
    "    - Etc\n",
    "- **Wage** involves predicting continuous or _quantitative_ output values\n",
    "- This is a _regression_ problem\n",
    "\n",
    "![Wage Data Graphs](~/Downloads/Chapter/1.1.pdf)"
   ]
  },
  {
   "cell_type": "markdown",
   "metadata": {
    "deletable": true,
    "editable": true,
    "slideshow": {
     "slide_type": "slide"
    }
   },
   "source": [
    "### Stock Market Data\n",
    "- There are times when we want to predict non-numerical value\n",
    "- This is called categorical or _qualitative_ output\n",
    "- A stock market data set, **Smarket**, is a good example or _classification_ problem\n",
    "- Predict if index will increase or decrease\n",
    "\n",
    "![Stock Market Graphs](~/Downloads/Chapter1/1.2.pdf)\n",
    "![Stock Market Current Graph](~Downloads/Chapter1/1.3.pdf)"
   ]
  },
  {
   "cell_type": "markdown",
   "metadata": {
    "deletable": true,
    "editable": true,
    "slideshow": {
     "slide_type": "slide"
    }
   },
   "source": [
    "### Gene Expression Data\n",
    "- Previous datasets include input and output\n",
    "- There will be problems that only include input and no corresponding output\n",
    "- Marketing segmentation is considered a _clustering_ problem\n",
    "- The data set used in clustering is the **NCI60** data set\n",
    "- We are interested if genes are in clusters\n",
    "\n",
    "![Gene Graphs](~/Downloads/Chapter1/1.4.pdf)"
   ]
  },
  {
   "cell_type": "markdown",
   "metadata": {
    "deletable": true,
    "editable": true,
    "slideshow": {
     "slide_type": "slide"
    }
   },
   "source": [
    "### A Brief History of Statistical Learning\n",
    "- The concepts of statistical learning were developed long ago\n",
    "- The earliest form of linear regression is _method of least squares_\n",
    "- _Linear regression_ is used to predict quantitative values\n",
    "- _Linear discriminant analysis_ was purposed in 1936\n",
    "- _Logistic regression_  was purposed in 1940's\n",
    "- _Generalized linear models_ was purposed in 1970's\n",
    "- Most of these techniques were linear\n",
    "- _Non-linear_ was computationally infeasible at the time\n",
    "- _Classification and regression trees_ were purposed in 1980's\n",
    "- _Generalized additive models_ was coined in 1986\n",
    "- Since the time, it became _machine learning_ "
   ]
  }
 ],
 "metadata": {
  "celltoolbar": "Slideshow",
  "kernelspec": {
   "display_name": "Python 3",
   "language": "python",
   "name": "python3"
  },
  "language_info": {
   "codemirror_mode": {
    "name": "ipython",
    "version": 3
   },
   "file_extension": ".py",
   "mimetype": "text/x-python",
   "name": "python",
   "nbconvert_exporter": "python",
   "pygments_lexer": "ipython3",
   "version": "3.5.2"
  }
 },
 "nbformat": 4,
 "nbformat_minor": 2
}
